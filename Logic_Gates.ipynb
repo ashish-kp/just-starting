{
  "nbformat": 4,
  "nbformat_minor": 0,
  "metadata": {
    "colab": {
      "name": "Logic Gates.ipynb",
      "provenance": [],
      "collapsed_sections": [],
      "include_colab_link": true
    },
    "kernelspec": {
      "name": "python3",
      "display_name": "Python 3"
    },
    "language_info": {
      "name": "python"
    }
  },
  "cells": [
    {
      "cell_type": "markdown",
      "metadata": {
        "id": "view-in-github",
        "colab_type": "text"
      },
      "source": [
        "<a href=\"https://colab.research.google.com/github/ashish-kp/just-starting/blob/gh-pages/Logic_Gates.ipynb\" target=\"_parent\"><img src=\"https://colab.research.google.com/assets/colab-badge.svg\" alt=\"Open In Colab\"/></a>"
      ]
    },
    {
      "cell_type": "markdown",
      "metadata": {
        "id": "sFhFgIeJqwjz"
      },
      "source": [
        "# AND Gate"
      ]
    },
    {
      "cell_type": "code",
      "metadata": {
        "id": "sFODdCaruWs_"
      },
      "source": [
        "def andd(one, two):\n",
        "    q = 0\n",
        "    if one == 1 and two == 1:\n",
        "        q = 1\n",
        "    else:\n",
        "        q = 0\n",
        "    print(\"The first bit is\" ,str(one),\", and the second bit is\" ,str(two) ,\"the output is\",str(q))"
      ],
      "execution_count": 2,
      "outputs": []
    },
    {
      "cell_type": "code",
      "metadata": {
        "colab": {
          "base_uri": "https://localhost:8080/"
        },
        "id": "zbb4rM0OqtK5",
        "outputId": "aded5ef6-0b04-439e-c77a-1d254eabba6f"
      },
      "source": [
        "print(\"Enter the values of q1 and q2\")\n",
        "\n",
        "q1 = int(input())\n",
        "q2 = int(input())\n",
        "\n",
        "if q1 > 1 and q2 > 1:\n",
        "    raise ValueError(\"These only take binary values.\")\n",
        "else:\n",
        "    andd(q1, q2)"
      ],
      "execution_count": 4,
      "outputs": [
        {
          "output_type": "stream",
          "text": [
            "Enter the values of q1 and q2\n",
            "0\n",
            "2\n",
            "The first bit is 0 , and the second bit is 2 the output is 0\n"
          ],
          "name": "stdout"
        }
      ]
    },
    {
      "cell_type": "markdown",
      "metadata": {
        "id": "YdP_O0PsvUXI"
      },
      "source": [
        "# OR Gate"
      ]
    },
    {
      "cell_type": "code",
      "metadata": {
        "id": "Ke1aP0OYwFF3"
      },
      "source": [
        "def orr(one, two):\n",
        "    q = 0\n",
        "    if one == 1 or two == 1:\n",
        "        q = 1\n",
        "    else:\n",
        "        q = 0\n",
        "    print(\"The first bit is\" ,str(one),\", and the second bit is\" ,str(two) ,\"the output is\",str(q))"
      ],
      "execution_count": null,
      "outputs": []
    },
    {
      "cell_type": "code",
      "metadata": {
        "colab": {
          "base_uri": "https://localhost:8080/"
        },
        "id": "ThsmlM3rvWUf",
        "outputId": "bb67bbab-8a0f-494a-9432-64315016e781"
      },
      "source": [
        "print(\"Enter the two bit values.\")\n",
        "\n",
        "q1 = int(input())\n",
        "q2 = int(input())\n",
        "\n",
        "if q1 > 1 and q2 > 1:\n",
        "    raise ValueError(\"These only take binary values.\")\n",
        "else:\n",
        "    orr(q1, q2)"
      ],
      "execution_count": null,
      "outputs": [
        {
          "output_type": "stream",
          "text": [
            "Enter the two bit values.\n",
            "0\n",
            "0\n",
            "The first bit is 0 , and the second bit is 0 the output is 0\n"
          ],
          "name": "stdout"
        }
      ]
    },
    {
      "cell_type": "markdown",
      "metadata": {
        "id": "1qyd_1TfwVx4"
      },
      "source": [
        "# NOT Gate"
      ]
    },
    {
      "cell_type": "code",
      "metadata": {
        "id": "5JKjBGyRwnXn"
      },
      "source": [
        "def nnot(one):\n",
        "    q = 0\n",
        "    if one == 1:\n",
        "        q = 0\n",
        "    else:\n",
        "        q = 1\n",
        "    print(\"The input bit is\", str(one), \"and the output is\", str(q))"
      ],
      "execution_count": null,
      "outputs": []
    },
    {
      "cell_type": "code",
      "metadata": {
        "colab": {
          "base_uri": "https://localhost:8080/"
        },
        "id": "fM0fqIQLwVLI",
        "outputId": "5b393218-9ecd-4900-b8f1-3f8a82fdeb64"
      },
      "source": [
        "print(\"Enter a binary value.\")\n",
        "q1 = int(input())\n",
        "\n",
        "if q1 > 1:\n",
        "    raise ValueError(\"The bit only takes binary values.\")\n",
        "else:\n",
        "    nnot(q1)"
      ],
      "execution_count": null,
      "outputs": [
        {
          "output_type": "stream",
          "text": [
            "1\n",
            "The input bit is 1 and the output is 0\n"
          ],
          "name": "stdout"
        }
      ]
    },
    {
      "cell_type": "markdown",
      "metadata": {
        "id": "jFdU01xeBd0T"
      },
      "source": [
        "# ay mod N\n",
        "\n",
        "$a^x (mod\\, N)$ is to be computed for different values of x, and plotted as a function of x."
      ]
    },
    {
      "cell_type": "code",
      "metadata": {
        "colab": {
          "base_uri": "https://localhost:8080/",
          "height": 367
        },
        "id": "HilfojTVBdf7",
        "outputId": "8a092a5f-6811-48f2-abb8-e4a91b86402e"
      },
      "source": [
        "import matplotlib.pyplot as plt\n",
        "import numpy as np\n",
        "\n",
        "print(\"Enter the value of N\")\n",
        "N = int(input())\n",
        "\n",
        "x_arr = []\n",
        "\n",
        "print(\"Enter the no.of x values allowed.\")\n",
        "step_size = int(input())\n",
        "\n",
        "print(\"Enter the value of a\")\n",
        "a = int(input())\n",
        "\n",
        "steps = np.linspace(0, step_size + 1, step_size + 1)\n",
        "\n",
        "for x in range(0, step_size + 1):\n",
        "    val = a**x\n",
        "    x_arr.append(val % N)\n",
        "\n",
        "plt.scatter(steps, x_arr)\n",
        "plt.plot(steps, x_arr)\n",
        "plt.show()"
      ],
      "execution_count": null,
      "outputs": [
        {
          "output_type": "stream",
          "text": [
            "Enter the value of N\n",
            "35\n",
            "Enter the no.of x values allowed.\n",
            "20\n",
            "Enter the value of a\n",
            "3\n"
          ],
          "name": "stdout"
        },
        {
          "output_type": "display_data",
          "data": {
            "image/png": "[encoded data removed]",
            "text/plain": [
              "<Figure size 432x288 with 1 Axes>"
            ]
          },
          "metadata": {
            "tags": [],
            "needs_background": "light"
          }
        }
      ]
    },
    {
      "cell_type": "markdown",
      "metadata": {
        "id": "cbpd3SybTDN4"
      },
      "source": [
        "# To find $\\Pi(n)$ first and then $\\Phi(n)$.\n",
        "\n",
        "$\\Pi(n)$ = No.of prime numbers between 1 and N(excluding N, if it is also a prime number). \n",
        "\n",
        "$\\Phi(n)$ = No.of numbers which are i)between 1 and N, and ii)co-prime to N. That is, the only common factor between the number and N must be 1.\n",
        "\n",
        "Let's start with identifying all prime numbers less than N."
      ]
    },
    {
      "cell_type": "markdown",
      "metadata": {
        "id": "DjL2vQ9lwSXx"
      },
      "source": [
        "# Naive Algorithm for finding $\\Pi(n)$:\n",
        "\n",
        "For a number \"i\" less than N, where i can take all the values 2 to N-1 (we shall disregard 1, as it is unique), and then, for a number \"j\" for each \"i\", where j can take the values from 2 to i - 1, we shall find the modulo between the values \"i\" and \"j\".\n",
        "\n",
        "If the value i mod j, is 0, for any value of \"j\", we immediately stop and move onto the next value of \"j\"(and at the same time set the flag value to be 1, from 0). If for some \"i\", there is no \"j\" which gives us i mod j = 0, then it means that no number below \"i\" is a factor of it, and hence \"i\" IS a prime number. The value of flag will remain unchanged, it will remain 0. If such a case exists we store those \"i\"'s in an array, and finally  return the length of that array."
      ]
    },
    {
      "cell_type": "code",
      "metadata": {
        "colab": {
          "base_uri": "https://localhost:8080/"
        },
        "id": "Z6DUgbynu8bB",
        "outputId": "a226baa1-33c7-448f-9fd7-27b76e9b9beb"
      },
      "source": [
        "from math import *\n",
        "\n",
        "print(\"Enter the value of N\")\n",
        "N = int(input()) #input from the user\n",
        "\n",
        "def pi(N):\n",
        "    p_arr = [] #array to store all the prime numbers less than N.\n",
        "    for i in range(2, N):\n",
        "        flag = 0\n",
        "        for j in range(2, i):\n",
        "            if i % j == 0:\n",
        "                flag = 1\n",
        "                break\n",
        "        if flag == 0:\n",
        "            p_arr.append(i)\n",
        "    return len(p_arr), p_arr\n",
        "\n",
        "c = pi(N)[0]\n",
        "print(\"The value of \", \"Pi(\",str(N), \") is \", str(c))"
      ],
      "execution_count": 6,
      "outputs": [
        {
          "output_type": "stream",
          "text": [
            "Enter the value of N\n",
            "100\n",
            "The value of  Pi( 100 ) is  25\n"
          ],
          "name": "stdout"
        }
      ]
    },
    {
      "cell_type": "markdown",
      "metadata": {
        "id": "2DUsuNdFBZFF"
      },
      "source": [
        "# Function returning factors of N\n",
        "\n",
        "We are interested in a simple function that returns an array containing all the factors of a number N, excluding 1."
      ]
    },
    {
      "cell_type": "code",
      "metadata": {
        "colab": {
          "base_uri": "https://localhost:8080/"
        },
        "id": "UefmYhJ1Bo2G",
        "outputId": "bb8d239c-3493-4250-a327-ab40dbe7eafe"
      },
      "source": [
        "def factor(N):\n",
        "    fc_arr = []\n",
        "    for i in range(2, N):\n",
        "        if N % i == 0:\n",
        "            fc_arr.append(i)\n",
        "    if len(fc_arr) == 0:\n",
        "        fc_arr.append(N)\n",
        "    return fc_arr\n",
        "\n",
        "factor(5)"
      ],
      "execution_count": 24,
      "outputs": [
        {
          "output_type": "execute_result",
          "data": {
            "text/plain": [
              "[5]"
            ]
          },
          "metadata": {
            "tags": []
          },
          "execution_count": 24
        }
      ]
    },
    {
      "cell_type": "markdown",
      "metadata": {
        "id": "aiDJykdN4IzI"
      },
      "source": [
        "# Naive algo to compute $\\Phi(N)$:\n",
        "\n",
        "We take the value of N from the user first.\n",
        "\n",
        "(Note : This is by no means a time-saving method as we shall take the longer route here.)\n",
        "\n",
        "For any number \"i\" lieing within the range 2 to N-1, we shall obtain all the factors of \"i\" using the function \"factor(i)\", and find the value \"factor of i mod N\", if even one of them is non-zero ,we break immediately and move onto the next \"i\". For all the \"i\" whose factors don't return a non-zero value for \"factor i mod 100\". we add all those \"i\" 's to the array."
      ]
    },
    {
      "cell_type": "code",
      "metadata": {
        "colab": {
          "base_uri": "https://localhost:8080/"
        },
        "id": "mTeDv6ScAXbV",
        "outputId": "7cf2d934-502d-413b-f4a9-9cb35d391973"
      },
      "source": [
        "print(\"Enter the value of N\")\n",
        "N = int(input())\n",
        "\n",
        "def phi(N):\n",
        "    fac_n = factor(N)\n",
        "    ph_arr = [1]\n",
        "    for i in range(2, N):\n",
        "        fac_n1 = factor(i)\n",
        "        flag = 0\n",
        "        for j in fac_n:\n",
        "            for k in fac_n1:\n",
        "                if j == k:\n",
        "                    flag = 1 \n",
        "        if flag == 0:\n",
        "            ph_arr.append(i)\n",
        "    return len(ph_arr), ph_arr\n",
        "\n",
        "phi(N)[0]"
      ],
      "execution_count": 44,
      "outputs": [
        {
          "output_type": "stream",
          "text": [
            "Enter the value of N\n",
            "2000\n"
          ],
          "name": "stdout"
        },
        {
          "output_type": "execute_result",
          "data": {
            "text/plain": [
              "800"
            ]
          },
          "metadata": {
            "tags": []
          },
          "execution_count": 44
        }
      ]
    }
  ]
}